{
 "cells": [
  {
   "cell_type": "code",
   "execution_count": 1,
   "id": "6c7061dd",
   "metadata": {},
   "outputs": [],
   "source": [
    "import numpy as np"
   ]
  },
  {
   "cell_type": "code",
   "execution_count": 10,
   "id": "d534fcec",
   "metadata": {},
   "outputs": [
    {
     "name": "stdout",
     "output_type": "stream",
     "text": [
      "0\n",
      "1\n",
      "2\n",
      "3\n",
      "4\n"
     ]
    }
   ],
   "source": [
    "for i in range(5):\n",
    "    print(i)"
   ]
  },
  {
   "cell_type": "code",
   "execution_count": 12,
   "id": "c669e310",
   "metadata": {},
   "outputs": [
    {
     "name": "stdout",
     "output_type": "stream",
     "text": [
      "0\n",
      "1\n",
      "2\n",
      "3\n",
      "4\n",
      "---------\n",
      "0\n",
      "1\n",
      "2\n",
      "3\n",
      "4\n"
     ]
    }
   ],
   "source": [
    "a = [0,1,2,3,4]\n",
    "for i in a:\n",
    "    print(i)\n",
    "print(\"---------\")\n",
    "for i in range(5):\n",
    "    print(f\"{a[i]}\")"
   ]
  },
  {
   "cell_type": "code",
   "execution_count": 32,
   "id": "79f84599",
   "metadata": {},
   "outputs": [],
   "source": [
    "arr = np.arange(6)\n"
   ]
  },
  {
   "cell_type": "code",
   "execution_count": 57,
   "id": "07889718",
   "metadata": {},
   "outputs": [
    {
     "name": "stdout",
     "output_type": "stream",
     "text": [
      "[0 1 2 3 4 5]\n"
     ]
    },
    {
     "data": {
      "text/plain": [
       "array([0, 1, 2, 3, 4, 5])"
      ]
     },
     "execution_count": 57,
     "metadata": {},
     "output_type": "execute_result"
    }
   ],
   "source": [
    "print(arr)\n",
    "arr\n"
   ]
  },
  {
   "cell_type": "code",
   "execution_count": 20,
   "id": "2fcec8a9",
   "metadata": {},
   "outputs": [
    {
     "name": "stdout",
     "output_type": "stream",
     "text": [
      "0\n",
      "1\n",
      "2\n",
      "3\n",
      "4\n",
      "5\n"
     ]
    }
   ],
   "source": [
    "for i in arr:\n",
    "    print(i)"
   ]
  },
  {
   "cell_type": "code",
   "execution_count": 31,
   "id": "34190134",
   "metadata": {},
   "outputs": [
    {
     "name": "stdout",
     "output_type": "stream",
     "text": [
      "(6,)\n"
     ]
    }
   ],
   "source": [
    "arr.shape"
   ]
  },
  {
   "cell_type": "markdown",
   "id": "9e7edf81",
   "metadata": {},
   "source": [
    "# Creating a list of 10 numbers"
   ]
  },
  {
   "cell_type": "code",
   "execution_count": 35,
   "id": "6bcd71ce",
   "metadata": {},
   "outputs": [
    {
     "name": "stdout",
     "output_type": "stream",
     "text": [
      "[]\n",
      "[0]\n",
      "[0, 1]\n",
      "[0, 1, 2]\n",
      "[0, 1, 2, 3]\n",
      "[0, 1, 2, 3, 4]\n",
      "[0, 1, 2, 3, 4, 5]\n",
      "[0, 1, 2, 3, 4, 5, 6]\n",
      "[0, 1, 2, 3, 4, 5, 6, 7]\n",
      "[0, 1, 2, 3, 4, 5, 6, 7, 8]\n",
      "[0, 1, 2, 3, 4, 5, 6, 7, 8, 9]\n"
     ]
    },
    {
     "data": {
      "text/plain": [
       "[0, 1, 2, 3, 4, 5, 6, 7, 8, 9]"
      ]
     },
     "execution_count": 35,
     "metadata": {},
     "output_type": "execute_result"
    }
   ],
   "source": [
    "my_list = []\n",
    "print(my_list)\n",
    "for i in range(10):\n",
    "    my_list.append(i)\n",
    "    print(my_list)\n",
    "my_list"
   ]
  },
  {
   "cell_type": "code",
   "execution_count": 39,
   "id": "0b18111d",
   "metadata": {},
   "outputs": [
    {
     "name": "stdout",
     "output_type": "stream",
     "text": [
      "[0 1 2 3 4 5 6 7 8 9]\n"
     ]
    },
    {
     "data": {
      "text/plain": [
       "array([0, 1, 2, 3, 4, 5, 6, 7, 8, 9])"
      ]
     },
     "execution_count": 39,
     "metadata": {},
     "output_type": "execute_result"
    }
   ],
   "source": [
    "my_np_list = np.arange(10)\n",
    "print(my_np_list)\n",
    "my_np_list"
   ]
  },
  {
   "cell_type": "markdown",
   "id": "a678210f",
   "metadata": {},
   "source": [
    "# Creating number data sets using numpy"
   ]
  },
  {
   "cell_type": "code",
   "execution_count": 41,
   "id": "fff9fe17",
   "metadata": {},
   "outputs": [
    {
     "name": "stdout",
     "output_type": "stream",
     "text": [
      "[0 1 2 3 4 5 6 7 8 9]\n"
     ]
    },
    {
     "data": {
      "text/plain": [
       "array([0, 1, 2, 3, 4, 5, 6, 7, 8, 9])"
      ]
     },
     "execution_count": 41,
     "metadata": {},
     "output_type": "execute_result"
    }
   ],
   "source": [
    "a = np.array([0,1,2,3,4,5,6,7,8,9])\n",
    "print(a)\n",
    "a"
   ]
  },
  {
   "cell_type": "code",
   "execution_count": 70,
   "id": "2ce11a0d",
   "metadata": {},
   "outputs": [
    {
     "name": "stdout",
     "output_type": "stream",
     "text": [
      "[0 1 2 3 4 5 6 7 8 9]\n"
     ]
    },
    {
     "data": {
      "text/plain": [
       "array([0, 1, 2, 3, 4, 5, 6, 7, 8, 9])"
      ]
     },
     "execution_count": 70,
     "metadata": {},
     "output_type": "execute_result"
    }
   ],
   "source": [
    "my_list = [0, 1, 2, 3, 4, 5, 6, 7, 8, 9]\n",
    "a = np.array(my_list)\n",
    "print(a)\n",
    "a"
   ]
  },
  {
   "cell_type": "markdown",
   "id": "3dfad6d2",
   "metadata": {},
   "source": [
    "## Assignemnt\n",
    "Given a single dimesional list [1, 2, 3, 4, 5, 6, 7, 8, 9]\n",
    "Find multi-dimensinal list [[1,2,3],[4,5,6],[7,8,9]]"
   ]
  },
  {
   "cell_type": "code",
   "execution_count": 101,
   "id": "1f0499c2",
   "metadata": {},
   "outputs": [
    {
     "name": "stdout",
     "output_type": "stream",
     "text": [
      "[[1, 2, 3], [4, 5, 6], [7, 8, 9]]\n"
     ]
    }
   ],
   "source": [
    "a = [1,2,3,4,5,6,7,8,9]\n",
    "\n",
    "c = []\n",
    "\n",
    "for i in range(0,7,3):\n",
    "    b = []\n",
    "    for j in range(3):\n",
    "        b.append(a[i+j])\n",
    "    c.append(b)\n",
    "\n",
    "print(c)"
   ]
  },
  {
   "cell_type": "markdown",
   "id": "484d11d7",
   "metadata": {},
   "source": [
    "# Creating a matrix"
   ]
  },
  {
   "cell_type": "code",
   "execution_count": 59,
   "id": "d99a7e99",
   "metadata": {},
   "outputs": [
    {
     "name": "stdout",
     "output_type": "stream",
     "text": [
      "[1, 2, 3, 4, 5, 6, 7, 8, 9]\n"
     ]
    },
    {
     "data": {
      "text/plain": [
       "[1, 2, 3, 4, 5, 6, 7, 8, 9]"
      ]
     },
     "execution_count": 59,
     "metadata": {},
     "output_type": "execute_result"
    }
   ],
   "source": [
    "m = [\n",
    "    1,2,3,\n",
    "    4,5,6,\n",
    "    7,8,9\n",
    "]\n",
    "print(m)\n",
    "m\n"
   ]
  },
  {
   "cell_type": "code",
   "execution_count": 60,
   "id": "6b2405b7",
   "metadata": {},
   "outputs": [
    {
     "data": {
      "text/plain": [
       "(9,)"
      ]
     },
     "execution_count": 60,
     "metadata": {},
     "output_type": "execute_result"
    }
   ],
   "source": [
    "np.shape(m)"
   ]
  },
  {
   "cell_type": "code",
   "execution_count": 55,
   "id": "b39459ed",
   "metadata": {},
   "outputs": [
    {
     "name": "stdout",
     "output_type": "stream",
     "text": [
      "[[1, 2, 3], [4, 5, 6], [7, 8, 9]]\n"
     ]
    },
    {
     "data": {
      "text/plain": [
       "[[1, 2, 3], [4, 5, 6], [7, 8, 9]]"
      ]
     },
     "execution_count": 55,
     "metadata": {},
     "output_type": "execute_result"
    }
   ],
   "source": [
    "m_1 = [\n",
    "    [1,2,3],\n",
    "    [4,5,6],\n",
    "    [7,8,9]\n",
    "]\n",
    "\n",
    "print(m_1)\n",
    "m_1"
   ]
  },
  {
   "cell_type": "code",
   "execution_count": 56,
   "id": "4e697254",
   "metadata": {},
   "outputs": [
    {
     "name": "stdout",
     "output_type": "stream",
     "text": [
      "[[1 2 3]\n",
      " [4 5 6]\n",
      " [7 8 9]]\n"
     ]
    },
    {
     "data": {
      "text/plain": [
       "array([[1, 2, 3],\n",
       "       [4, 5, 6],\n",
       "       [7, 8, 9]])"
      ]
     },
     "execution_count": 56,
     "metadata": {},
     "output_type": "execute_result"
    }
   ],
   "source": [
    "m_1_ar = np.array(m_1)\n",
    "print(m_1_ar)\n",
    "m_1_ar"
   ]
  },
  {
   "cell_type": "code",
   "execution_count": 64,
   "id": "a0f873e7",
   "metadata": {},
   "outputs": [
    {
     "data": {
      "text/plain": [
       "array([1, 2, 3, 4, 5, 6, 7, 8, 9])"
      ]
     },
     "execution_count": 64,
     "metadata": {},
     "output_type": "execute_result"
    }
   ],
   "source": [
    "np_m = np.arange(1,10)\n",
    "np_m"
   ]
  },
  {
   "cell_type": "code",
   "execution_count": 65,
   "id": "1745fa7d",
   "metadata": {},
   "outputs": [
    {
     "data": {
      "text/plain": [
       "(9,)"
      ]
     },
     "execution_count": 65,
     "metadata": {},
     "output_type": "execute_result"
    }
   ],
   "source": [
    "np.shape(np_m)"
   ]
  },
  {
   "cell_type": "code",
   "execution_count": 73,
   "id": "1239cb51",
   "metadata": {},
   "outputs": [
    {
     "name": "stdout",
     "output_type": "stream",
     "text": [
      "[[1 2 3]\n",
      " [4 5 6]\n",
      " [7 8 9]]\n"
     ]
    },
    {
     "data": {
      "text/plain": [
       "array([[1, 2, 3],\n",
       "       [4, 5, 6],\n",
       "       [7, 8, 9]])"
      ]
     },
     "execution_count": 73,
     "metadata": {},
     "output_type": "execute_result"
    }
   ],
   "source": [
    "np_m_reshape = np_m.reshape(3,3)\n",
    "print(np_m_reshape)\n",
    "np_m_reshape"
   ]
  },
  {
   "cell_type": "markdown",
   "id": "68238e7e",
   "metadata": {},
   "source": [
    "# Addition of Matrix usning Numpy Arrays"
   ]
  },
  {
   "cell_type": "code",
   "execution_count": 74,
   "id": "e2c48724",
   "metadata": {},
   "outputs": [],
   "source": [
    "matrix_1 = np.arange(1,10)\n",
    "matrix_2 = np.arange(10,100,10)"
   ]
  },
  {
   "cell_type": "code",
   "execution_count": 75,
   "id": "b6c464a1",
   "metadata": {},
   "outputs": [
    {
     "data": {
      "text/plain": [
       "array([1, 2, 3, 4, 5, 6, 7, 8, 9])"
      ]
     },
     "execution_count": 75,
     "metadata": {},
     "output_type": "execute_result"
    }
   ],
   "source": [
    "matrix_1"
   ]
  },
  {
   "cell_type": "code",
   "execution_count": 76,
   "id": "e1fc981d",
   "metadata": {},
   "outputs": [
    {
     "data": {
      "text/plain": [
       "array([10, 20, 30, 40, 50, 60, 70, 80, 90])"
      ]
     },
     "execution_count": 76,
     "metadata": {},
     "output_type": "execute_result"
    }
   ],
   "source": [
    "matrix_2"
   ]
  },
  {
   "cell_type": "code",
   "execution_count": 77,
   "id": "e91b4802",
   "metadata": {},
   "outputs": [
    {
     "data": {
      "text/plain": [
       "array([11, 22, 33, 44, 55, 66, 77, 88, 99])"
      ]
     },
     "execution_count": 77,
     "metadata": {},
     "output_type": "execute_result"
    }
   ],
   "source": [
    "matrix_1 + matrix_2"
   ]
  },
  {
   "cell_type": "code",
   "execution_count": 79,
   "id": "e58736ed",
   "metadata": {},
   "outputs": [
    {
     "data": {
      "text/plain": [
       "array([[11, 22, 33],\n",
       "       [44, 55, 66],\n",
       "       [77, 88, 99]])"
      ]
     },
     "execution_count": 79,
     "metadata": {},
     "output_type": "execute_result"
    }
   ],
   "source": [
    "matrix_1.reshape(3,3) + matrix_2.reshape(3,3)"
   ]
  },
  {
   "cell_type": "markdown",
   "id": "a39af5e1",
   "metadata": {},
   "source": [
    "# Addition of Matrix using Python List\n",
    "## Assignment\n",
    "\n",
    "Create 2 matrices and then sum the matrices\n"
   ]
  },
  {
   "cell_type": "code",
   "execution_count": 80,
   "id": "80c40de2",
   "metadata": {},
   "outputs": [],
   "source": [
    "mat_1 = [\n",
    "    [1,2,3],\n",
    "    [4,5,6],\n",
    "    [7,8,9]\n",
    "]\n",
    "\n",
    "mat_2 = [\n",
    "    [10,20,30],\n",
    "    [40,50,60],\n",
    "    [70,80,90]\n",
    "]"
   ]
  },
  {
   "cell_type": "markdown",
   "id": "8e94dc67",
   "metadata": {},
   "source": [
    "### Iteration 1 (simply adding)"
   ]
  },
  {
   "cell_type": "code",
   "execution_count": 85,
   "id": "303e4ed4",
   "metadata": {},
   "outputs": [
    {
     "data": {
      "text/plain": [
       "[[1, 2, 3], [4, 5, 6], [7, 8, 9]]"
      ]
     },
     "execution_count": 85,
     "metadata": {},
     "output_type": "execute_result"
    }
   ],
   "source": [
    "mat_1"
   ]
  },
  {
   "cell_type": "code",
   "execution_count": 82,
   "id": "5ac6cc32",
   "metadata": {},
   "outputs": [
    {
     "data": {
      "text/plain": [
       "[[10, 20, 30], [40, 50, 60], [70, 80, 90]]"
      ]
     },
     "execution_count": 82,
     "metadata": {},
     "output_type": "execute_result"
    }
   ],
   "source": [
    "mat_2"
   ]
  },
  {
   "cell_type": "code",
   "execution_count": 83,
   "id": "695885f1",
   "metadata": {},
   "outputs": [
    {
     "data": {
      "text/plain": [
       "[[1, 2, 3], [4, 5, 6], [7, 8, 9], [10, 20, 30], [40, 50, 60], [70, 80, 90]]"
      ]
     },
     "execution_count": 83,
     "metadata": {},
     "output_type": "execute_result"
    }
   ],
   "source": [
    "mat_1 + mat_2"
   ]
  },
  {
   "cell_type": "markdown",
   "id": "a354cf3a",
   "metadata": {},
   "source": [
    "### Iteration 2 (converting to np_array then adding)"
   ]
  },
  {
   "cell_type": "code",
   "execution_count": 86,
   "id": "b3eb8732",
   "metadata": {},
   "outputs": [],
   "source": [
    "mat_1_np = np.array(mat_1)\n",
    "mat_2_np = np.array(mat_2)"
   ]
  },
  {
   "cell_type": "code",
   "execution_count": 87,
   "id": "39549f66",
   "metadata": {},
   "outputs": [
    {
     "data": {
      "text/plain": [
       "array([[1, 2, 3],\n",
       "       [4, 5, 6],\n",
       "       [7, 8, 9]])"
      ]
     },
     "execution_count": 87,
     "metadata": {},
     "output_type": "execute_result"
    }
   ],
   "source": [
    "mat_1_np"
   ]
  },
  {
   "cell_type": "code",
   "execution_count": 88,
   "id": "176102b5",
   "metadata": {},
   "outputs": [
    {
     "data": {
      "text/plain": [
       "array([[10, 20, 30],\n",
       "       [40, 50, 60],\n",
       "       [70, 80, 90]])"
      ]
     },
     "execution_count": 88,
     "metadata": {},
     "output_type": "execute_result"
    }
   ],
   "source": [
    "mat_2_np"
   ]
  },
  {
   "cell_type": "code",
   "execution_count": 89,
   "id": "443737fc",
   "metadata": {},
   "outputs": [
    {
     "data": {
      "text/plain": [
       "array([[11, 22, 33],\n",
       "       [44, 55, 66],\n",
       "       [77, 88, 99]])"
      ]
     },
     "execution_count": 89,
     "metadata": {},
     "output_type": "execute_result"
    }
   ],
   "source": [
    "mat_1_np + mat_2_np"
   ]
  },
  {
   "cell_type": "markdown",
   "id": "808600be",
   "metadata": {},
   "source": [
    "### Iteration 3 (treating as pure python lists and using for loop)"
   ]
  },
  {
   "cell_type": "code",
   "execution_count": 106,
   "id": "ddb8a062",
   "metadata": {},
   "outputs": [
    {
     "name": "stdout",
     "output_type": "stream",
     "text": [
      "[11, 22, 33, 44, 55, 66, 77, 88, 99]\n"
     ]
    }
   ],
   "source": [
    "final = []\n",
    "for i in range(3):\n",
    "    mat_1_temp = mat_1[i]\n",
    "    mat_2_temp = mat_2[i]\n",
    "    for j in range(3):\n",
    "        final.append(mat_1_temp[j]+mat_2_temp[j])\n",
    "print(final)"
   ]
  },
  {
   "cell_type": "code",
   "execution_count": 103,
   "id": "2e0c5dc8",
   "metadata": {},
   "outputs": [
    {
     "name": "stdout",
     "output_type": "stream",
     "text": [
      "[[11 22 33]\n",
      " [44 55 66]\n",
      " [77 88 99]]\n"
     ]
    },
    {
     "data": {
      "text/plain": [
       "array([[11, 22, 33],\n",
       "       [44, 55, 66],\n",
       "       [77, 88, 99]])"
      ]
     },
     "execution_count": 103,
     "metadata": {},
     "output_type": "execute_result"
    }
   ],
   "source": [
    "# convert to multi-dimensional Using Arrays\n",
    "final_array = np.array(final)\n",
    "final_reshaped = final_array.reshape(3,3)\n",
    "print(final_reshaped)\n",
    "final_reshaped"
   ]
  },
  {
   "cell_type": "code",
   "execution_count": 108,
   "id": "eefb58ba",
   "metadata": {},
   "outputs": [
    {
     "name": "stdout",
     "output_type": "stream",
     "text": [
      "[[11, 22, 33], [44, 55, 66], [77, 88, 99]]\n"
     ]
    }
   ],
   "source": [
    "# convert to multi-dimensional Using lists only\n",
    "\n",
    "final_multi = []\n",
    "\n",
    "for i in range(0,7,3):\n",
    "    final_sub = []\n",
    "    for j in range(3):\n",
    "        final_sub.append(final[i+j])\n",
    "    final_multi.append(final_sub)\n",
    "\n",
    "print(final_multi)"
   ]
  },
  {
   "cell_type": "code",
   "execution_count": null,
   "id": "fb14c388",
   "metadata": {},
   "outputs": [],
   "source": []
  }
 ],
 "metadata": {
  "kernelspec": {
   "display_name": "Python 3",
   "language": "python",
   "name": "python3"
  },
  "language_info": {
   "codemirror_mode": {
    "name": "ipython",
    "version": 3
   },
   "file_extension": ".py",
   "mimetype": "text/x-python",
   "name": "python",
   "nbconvert_exporter": "python",
   "pygments_lexer": "ipython3",
   "version": "3.9.2"
  }
 },
 "nbformat": 4,
 "nbformat_minor": 5
}
