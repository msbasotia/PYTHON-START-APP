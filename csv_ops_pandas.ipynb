{
 "cells": [
  {
   "cell_type": "code",
   "execution_count": 1,
   "id": "980587d8",
   "metadata": {},
   "outputs": [],
   "source": [
    "import pandas as pd"
   ]
  },
  {
   "cell_type": "code",
   "execution_count": 2,
   "id": "d75f1949",
   "metadata": {},
   "outputs": [
    {
     "data": {
      "text/plain": [
       "<module 'pandas' from '/Users/Manu/Desktop/New/python_app/.venv/lib/python3.9/site-packages/pandas/__init__.py'>"
      ]
     },
     "execution_count": 2,
     "metadata": {},
     "output_type": "execute_result"
    }
   ],
   "source": [
    "pd"
   ]
  },
  {
   "cell_type": "code",
   "execution_count": 4,
   "id": "82aac7bb",
   "metadata": {},
   "outputs": [],
   "source": [
    "df = pd.read_csv(\"test_python.csv\") #df stands for data-frame"
   ]
  },
  {
   "cell_type": "code",
   "execution_count": 5,
   "id": "e3fc91e3",
   "metadata": {},
   "outputs": [
    {
     "data": {
      "text/html": [
       "<div>\n",
       "<style scoped>\n",
       "    .dataframe tbody tr th:only-of-type {\n",
       "        vertical-align: middle;\n",
       "    }\n",
       "\n",
       "    .dataframe tbody tr th {\n",
       "        vertical-align: top;\n",
       "    }\n",
       "\n",
       "    .dataframe thead th {\n",
       "        text-align: right;\n",
       "    }\n",
       "</style>\n",
       "<table border=\"1\" class=\"dataframe\">\n",
       "  <thead>\n",
       "    <tr style=\"text-align: right;\">\n",
       "      <th></th>\n",
       "      <th>final_cat</th>\n",
       "      <th>ptype</th>\n",
       "      <th>gb_flag</th>\n",
       "      <th>item_id</th>\n",
       "      <th>gmv</th>\n",
       "      <th>qty</th>\n",
       "    </tr>\n",
       "  </thead>\n",
       "  <tbody>\n",
       "    <tr>\n",
       "      <th>0</th>\n",
       "      <td>Staples</td>\n",
       "      <td>Olive Oil</td>\n",
       "      <td>0</td>\n",
       "      <td>10009572</td>\n",
       "      <td>1533963.00</td>\n",
       "      <td>1142</td>\n",
       "    </tr>\n",
       "    <tr>\n",
       "      <th>1</th>\n",
       "      <td>FMCG F</td>\n",
       "      <td>Tea</td>\n",
       "      <td>1</td>\n",
       "      <td>10041052</td>\n",
       "      <td>24392096.32</td>\n",
       "      <td>104123</td>\n",
       "    </tr>\n",
       "    <tr>\n",
       "      <th>2</th>\n",
       "      <td>GM</td>\n",
       "      <td>Steam Iron</td>\n",
       "      <td>0</td>\n",
       "      <td>10073489</td>\n",
       "      <td>444252.00</td>\n",
       "      <td>752</td>\n",
       "    </tr>\n",
       "    <tr>\n",
       "      <th>3</th>\n",
       "      <td>GM</td>\n",
       "      <td>Jacket</td>\n",
       "      <td>0</td>\n",
       "      <td>10051723</td>\n",
       "      <td>2915.00</td>\n",
       "      <td>7</td>\n",
       "    </tr>\n",
       "    <tr>\n",
       "      <th>4</th>\n",
       "      <td>FMCG F</td>\n",
       "      <td>Biscuit</td>\n",
       "      <td>0</td>\n",
       "      <td>10000796</td>\n",
       "      <td>252907.00</td>\n",
       "      <td>8010</td>\n",
       "    </tr>\n",
       "  </tbody>\n",
       "</table>\n",
       "</div>"
      ],
      "text/plain": [
       "  final_cat       ptype  gb_flag   item_id          gmv     qty\n",
       "0   Staples   Olive Oil        0  10009572   1533963.00    1142\n",
       "1    FMCG F         Tea        1  10041052  24392096.32  104123\n",
       "2        GM  Steam Iron        0  10073489    444252.00     752\n",
       "3        GM      Jacket        0  10051723      2915.00       7\n",
       "4    FMCG F     Biscuit        0  10000796    252907.00    8010"
      ]
     },
     "execution_count": 5,
     "metadata": {},
     "output_type": "execute_result"
    }
   ],
   "source": [
    "df.head()"
   ]
  },
  {
   "cell_type": "code",
   "execution_count": 7,
   "id": "2f35bb2c",
   "metadata": {
    "scrolled": true
   },
   "outputs": [
    {
     "data": {
      "text/html": [
       "<div>\n",
       "<style scoped>\n",
       "    .dataframe tbody tr th:only-of-type {\n",
       "        vertical-align: middle;\n",
       "    }\n",
       "\n",
       "    .dataframe tbody tr th {\n",
       "        vertical-align: top;\n",
       "    }\n",
       "\n",
       "    .dataframe thead th {\n",
       "        text-align: right;\n",
       "    }\n",
       "</style>\n",
       "<table border=\"1\" class=\"dataframe\">\n",
       "  <thead>\n",
       "    <tr style=\"text-align: right;\">\n",
       "      <th></th>\n",
       "      <th>final_cat</th>\n",
       "      <th>ptype</th>\n",
       "      <th>gb_flag</th>\n",
       "      <th>item_id</th>\n",
       "      <th>gmv</th>\n",
       "      <th>qty</th>\n",
       "    </tr>\n",
       "  </thead>\n",
       "  <tbody>\n",
       "    <tr>\n",
       "      <th>241</th>\n",
       "      <td>GM</td>\n",
       "      <td>Cushion Cover Set</td>\n",
       "      <td>0</td>\n",
       "      <td>10062997</td>\n",
       "      <td>1096.0</td>\n",
       "      <td>2</td>\n",
       "    </tr>\n",
       "    <tr>\n",
       "      <th>242</th>\n",
       "      <td>FMCG F</td>\n",
       "      <td>Malt</td>\n",
       "      <td>0</td>\n",
       "      <td>10046886</td>\n",
       "      <td>19527.0</td>\n",
       "      <td>797</td>\n",
       "    </tr>\n",
       "    <tr>\n",
       "      <th>243</th>\n",
       "      <td>FMCG F</td>\n",
       "      <td>Green Tea</td>\n",
       "      <td>0</td>\n",
       "      <td>10015804</td>\n",
       "      <td>115292.0</td>\n",
       "      <td>293</td>\n",
       "    </tr>\n",
       "    <tr>\n",
       "      <th>244</th>\n",
       "      <td>Staples</td>\n",
       "      <td>Regular Rice</td>\n",
       "      <td>0</td>\n",
       "      <td>10017495</td>\n",
       "      <td>134641.0</td>\n",
       "      <td>264</td>\n",
       "    </tr>\n",
       "    <tr>\n",
       "      <th>245</th>\n",
       "      <td>FMCG NF</td>\n",
       "      <td>Oil Replacement</td>\n",
       "      <td>0</td>\n",
       "      <td>10031801</td>\n",
       "      <td>9834.0</td>\n",
       "      <td>53</td>\n",
       "    </tr>\n",
       "  </tbody>\n",
       "</table>\n",
       "</div>"
      ],
      "text/plain": [
       "    final_cat              ptype  gb_flag   item_id       gmv  qty\n",
       "241        GM  Cushion Cover Set        0  10062997    1096.0    2\n",
       "242    FMCG F               Malt        0  10046886   19527.0  797\n",
       "243    FMCG F          Green Tea        0  10015804  115292.0  293\n",
       "244   Staples       Regular Rice        0  10017495  134641.0  264\n",
       "245   FMCG NF    Oil Replacement        0  10031801    9834.0   53"
      ]
     },
     "execution_count": 7,
     "metadata": {},
     "output_type": "execute_result"
    }
   ],
   "source": [
    "df.tail()"
   ]
  },
  {
   "cell_type": "code",
   "execution_count": 27,
   "id": "e856875d",
   "metadata": {},
   "outputs": [],
   "source": [
    "df1 = df[\"item_id\"]"
   ]
  },
  {
   "cell_type": "code",
   "execution_count": 28,
   "id": "f8573aef",
   "metadata": {},
   "outputs": [
    {
     "data": {
      "text/plain": [
       "0    10009572\n",
       "1    10041052\n",
       "2    10073489\n",
       "3    10051723\n",
       "4    10000796\n",
       "Name: item_id, dtype: int64"
      ]
     },
     "execution_count": 28,
     "metadata": {},
     "output_type": "execute_result"
    }
   ],
   "source": [
    "df1.head()"
   ]
  },
  {
   "cell_type": "code",
   "execution_count": 13,
   "id": "5748329b",
   "metadata": {},
   "outputs": [
    {
     "data": {
      "text/html": [
       "<div>\n",
       "<style scoped>\n",
       "    .dataframe tbody tr th:only-of-type {\n",
       "        vertical-align: middle;\n",
       "    }\n",
       "\n",
       "    .dataframe tbody tr th {\n",
       "        vertical-align: top;\n",
       "    }\n",
       "\n",
       "    .dataframe thead th {\n",
       "        text-align: right;\n",
       "    }\n",
       "</style>\n",
       "<table border=\"1\" class=\"dataframe\">\n",
       "  <thead>\n",
       "    <tr style=\"text-align: right;\">\n",
       "      <th></th>\n",
       "      <th>gb_flag</th>\n",
       "      <th>item_id</th>\n",
       "      <th>gmv</th>\n",
       "      <th>qty</th>\n",
       "    </tr>\n",
       "  </thead>\n",
       "  <tbody>\n",
       "    <tr>\n",
       "      <th>count</th>\n",
       "      <td>246.000000</td>\n",
       "      <td>2.460000e+02</td>\n",
       "      <td>2.460000e+02</td>\n",
       "      <td>246.000000</td>\n",
       "    </tr>\n",
       "    <tr>\n",
       "      <th>mean</th>\n",
       "      <td>0.146341</td>\n",
       "      <td>1.004124e+07</td>\n",
       "      <td>9.463675e+05</td>\n",
       "      <td>12667.605691</td>\n",
       "    </tr>\n",
       "    <tr>\n",
       "      <th>std</th>\n",
       "      <td>0.354169</td>\n",
       "      <td>2.672931e+04</td>\n",
       "      <td>3.148658e+06</td>\n",
       "      <td>40893.065996</td>\n",
       "    </tr>\n",
       "    <tr>\n",
       "      <th>min</th>\n",
       "      <td>0.000000</td>\n",
       "      <td>1.000005e+07</td>\n",
       "      <td>2.400000e+01</td>\n",
       "      <td>1.000000</td>\n",
       "    </tr>\n",
       "    <tr>\n",
       "      <th>25%</th>\n",
       "      <td>0.000000</td>\n",
       "      <td>1.001085e+07</td>\n",
       "      <td>3.477750e+03</td>\n",
       "      <td>10.250000</td>\n",
       "    </tr>\n",
       "    <tr>\n",
       "      <th>50%</th>\n",
       "      <td>0.000000</td>\n",
       "      <td>1.004637e+07</td>\n",
       "      <td>4.763050e+04</td>\n",
       "      <td>613.000000</td>\n",
       "    </tr>\n",
       "    <tr>\n",
       "      <th>75%</th>\n",
       "      <td>0.000000</td>\n",
       "      <td>1.006473e+07</td>\n",
       "      <td>4.260478e+05</td>\n",
       "      <td>5341.750000</td>\n",
       "    </tr>\n",
       "    <tr>\n",
       "      <th>max</th>\n",
       "      <td>1.000000</td>\n",
       "      <td>1.008810e+07</td>\n",
       "      <td>3.347894e+07</td>\n",
       "      <td>368295.000000</td>\n",
       "    </tr>\n",
       "  </tbody>\n",
       "</table>\n",
       "</div>"
      ],
      "text/plain": [
       "          gb_flag       item_id           gmv            qty\n",
       "count  246.000000  2.460000e+02  2.460000e+02     246.000000\n",
       "mean     0.146341  1.004124e+07  9.463675e+05   12667.605691\n",
       "std      0.354169  2.672931e+04  3.148658e+06   40893.065996\n",
       "min      0.000000  1.000005e+07  2.400000e+01       1.000000\n",
       "25%      0.000000  1.001085e+07  3.477750e+03      10.250000\n",
       "50%      0.000000  1.004637e+07  4.763050e+04     613.000000\n",
       "75%      0.000000  1.006473e+07  4.260478e+05    5341.750000\n",
       "max      1.000000  1.008810e+07  3.347894e+07  368295.000000"
      ]
     },
     "execution_count": 13,
     "metadata": {},
     "output_type": "execute_result"
    }
   ],
   "source": [
    "df.describe()"
   ]
  },
  {
   "cell_type": "code",
   "execution_count": 14,
   "id": "e5369845",
   "metadata": {},
   "outputs": [
    {
     "data": {
      "text/plain": [
       "final_cat     object\n",
       "ptype         object\n",
       "gb_flag        int64\n",
       "item_id        int64\n",
       "gmv          float64\n",
       "qty            int64\n",
       "dtype: object"
      ]
     },
     "execution_count": 14,
     "metadata": {},
     "output_type": "execute_result"
    }
   ],
   "source": [
    "df.dtypes"
   ]
  },
  {
   "cell_type": "code",
   "execution_count": 19,
   "id": "2e531002",
   "metadata": {},
   "outputs": [
    {
     "data": {
      "text/plain": [
       "(246, 6)"
      ]
     },
     "execution_count": 19,
     "metadata": {},
     "output_type": "execute_result"
    }
   ],
   "source": [
    "df.shape"
   ]
  },
  {
   "cell_type": "code",
   "execution_count": 20,
   "id": "9103a43a",
   "metadata": {},
   "outputs": [
    {
     "name": "stdout",
     "output_type": "stream",
     "text": [
      "<class 'pandas.core.frame.DataFrame'>\n",
      "RangeIndex: 246 entries, 0 to 245\n",
      "Data columns (total 6 columns):\n",
      " #   Column     Non-Null Count  Dtype  \n",
      "---  ------     --------------  -----  \n",
      " 0   final_cat  246 non-null    object \n",
      " 1   ptype      246 non-null    object \n",
      " 2   gb_flag    246 non-null    int64  \n",
      " 3   item_id    246 non-null    int64  \n",
      " 4   gmv        246 non-null    float64\n",
      " 5   qty        246 non-null    int64  \n",
      "dtypes: float64(1), int64(3), object(2)\n",
      "memory usage: 11.7+ KB\n"
     ]
    }
   ],
   "source": [
    "df.info()"
   ]
  },
  {
   "cell_type": "code",
   "execution_count": 29,
   "id": "db95e764",
   "metadata": {},
   "outputs": [
    {
     "data": {
      "text/plain": [
       "(246,)"
      ]
     },
     "execution_count": 29,
     "metadata": {},
     "output_type": "execute_result"
    }
   ],
   "source": [
    "df1.shape"
   ]
  },
  {
   "cell_type": "code",
   "execution_count": 30,
   "id": "c24bf2f5",
   "metadata": {},
   "outputs": [
    {
     "data": {
      "text/plain": [
       "count    2.460000e+02\n",
       "mean     1.004124e+07\n",
       "std      2.672931e+04\n",
       "min      1.000005e+07\n",
       "25%      1.001085e+07\n",
       "50%      1.004637e+07\n",
       "75%      1.006473e+07\n",
       "max      1.008810e+07\n",
       "Name: item_id, dtype: float64"
      ]
     },
     "execution_count": 30,
     "metadata": {},
     "output_type": "execute_result"
    }
   ],
   "source": [
    "df1.describe()"
   ]
  },
  {
   "cell_type": "code",
   "execution_count": 32,
   "id": "f6bd293e",
   "metadata": {},
   "outputs": [
    {
     "data": {
      "text/plain": [
       "pandas.core.series.Series"
      ]
     },
     "execution_count": 32,
     "metadata": {},
     "output_type": "execute_result"
    }
   ],
   "source": [
    "type(df1)"
   ]
  },
  {
   "cell_type": "code",
   "execution_count": 33,
   "id": "b82bff10",
   "metadata": {},
   "outputs": [
    {
     "data": {
      "text/plain": [
       "pandas.core.frame.DataFrame"
      ]
     },
     "execution_count": 33,
     "metadata": {},
     "output_type": "execute_result"
    }
   ],
   "source": [
    "type(df)"
   ]
  },
  {
   "cell_type": "code",
   "execution_count": 34,
   "id": "673c92bc",
   "metadata": {},
   "outputs": [],
   "source": [
    "df2 = df[[\"item_id\",\"gb_flag\"]]"
   ]
  },
  {
   "cell_type": "code",
   "execution_count": 35,
   "id": "8e2348d6",
   "metadata": {},
   "outputs": [
    {
     "data": {
      "text/html": [
       "<div>\n",
       "<style scoped>\n",
       "    .dataframe tbody tr th:only-of-type {\n",
       "        vertical-align: middle;\n",
       "    }\n",
       "\n",
       "    .dataframe tbody tr th {\n",
       "        vertical-align: top;\n",
       "    }\n",
       "\n",
       "    .dataframe thead th {\n",
       "        text-align: right;\n",
       "    }\n",
       "</style>\n",
       "<table border=\"1\" class=\"dataframe\">\n",
       "  <thead>\n",
       "    <tr style=\"text-align: right;\">\n",
       "      <th></th>\n",
       "      <th>item_id</th>\n",
       "      <th>gb_flag</th>\n",
       "    </tr>\n",
       "  </thead>\n",
       "  <tbody>\n",
       "    <tr>\n",
       "      <th>0</th>\n",
       "      <td>10009572</td>\n",
       "      <td>0</td>\n",
       "    </tr>\n",
       "    <tr>\n",
       "      <th>1</th>\n",
       "      <td>10041052</td>\n",
       "      <td>1</td>\n",
       "    </tr>\n",
       "    <tr>\n",
       "      <th>2</th>\n",
       "      <td>10073489</td>\n",
       "      <td>0</td>\n",
       "    </tr>\n",
       "    <tr>\n",
       "      <th>3</th>\n",
       "      <td>10051723</td>\n",
       "      <td>0</td>\n",
       "    </tr>\n",
       "    <tr>\n",
       "      <th>4</th>\n",
       "      <td>10000796</td>\n",
       "      <td>0</td>\n",
       "    </tr>\n",
       "    <tr>\n",
       "      <th>...</th>\n",
       "      <td>...</td>\n",
       "      <td>...</td>\n",
       "    </tr>\n",
       "    <tr>\n",
       "      <th>241</th>\n",
       "      <td>10062997</td>\n",
       "      <td>0</td>\n",
       "    </tr>\n",
       "    <tr>\n",
       "      <th>242</th>\n",
       "      <td>10046886</td>\n",
       "      <td>0</td>\n",
       "    </tr>\n",
       "    <tr>\n",
       "      <th>243</th>\n",
       "      <td>10015804</td>\n",
       "      <td>0</td>\n",
       "    </tr>\n",
       "    <tr>\n",
       "      <th>244</th>\n",
       "      <td>10017495</td>\n",
       "      <td>0</td>\n",
       "    </tr>\n",
       "    <tr>\n",
       "      <th>245</th>\n",
       "      <td>10031801</td>\n",
       "      <td>0</td>\n",
       "    </tr>\n",
       "  </tbody>\n",
       "</table>\n",
       "<p>246 rows × 2 columns</p>\n",
       "</div>"
      ],
      "text/plain": [
       "      item_id  gb_flag\n",
       "0    10009572        0\n",
       "1    10041052        1\n",
       "2    10073489        0\n",
       "3    10051723        0\n",
       "4    10000796        0\n",
       "..        ...      ...\n",
       "241  10062997        0\n",
       "242  10046886        0\n",
       "243  10015804        0\n",
       "244  10017495        0\n",
       "245  10031801        0\n",
       "\n",
       "[246 rows x 2 columns]"
      ]
     },
     "execution_count": 35,
     "metadata": {},
     "output_type": "execute_result"
    }
   ],
   "source": [
    "df2"
   ]
  },
  {
   "cell_type": "code",
   "execution_count": 36,
   "id": "456b2eb1",
   "metadata": {},
   "outputs": [
    {
     "data": {
      "text/html": [
       "<div>\n",
       "<style scoped>\n",
       "    .dataframe tbody tr th:only-of-type {\n",
       "        vertical-align: middle;\n",
       "    }\n",
       "\n",
       "    .dataframe tbody tr th {\n",
       "        vertical-align: top;\n",
       "    }\n",
       "\n",
       "    .dataframe thead th {\n",
       "        text-align: right;\n",
       "    }\n",
       "</style>\n",
       "<table border=\"1\" class=\"dataframe\">\n",
       "  <thead>\n",
       "    <tr style=\"text-align: right;\">\n",
       "      <th></th>\n",
       "      <th>item_id</th>\n",
       "      <th>gb_flag</th>\n",
       "    </tr>\n",
       "  </thead>\n",
       "  <tbody>\n",
       "    <tr>\n",
       "      <th>0</th>\n",
       "      <td>10009572</td>\n",
       "      <td>0</td>\n",
       "    </tr>\n",
       "    <tr>\n",
       "      <th>1</th>\n",
       "      <td>10041052</td>\n",
       "      <td>1</td>\n",
       "    </tr>\n",
       "    <tr>\n",
       "      <th>2</th>\n",
       "      <td>10073489</td>\n",
       "      <td>0</td>\n",
       "    </tr>\n",
       "    <tr>\n",
       "      <th>3</th>\n",
       "      <td>10051723</td>\n",
       "      <td>0</td>\n",
       "    </tr>\n",
       "    <tr>\n",
       "      <th>4</th>\n",
       "      <td>10000796</td>\n",
       "      <td>0</td>\n",
       "    </tr>\n",
       "    <tr>\n",
       "      <th>5</th>\n",
       "      <td>10033988</td>\n",
       "      <td>0</td>\n",
       "    </tr>\n",
       "  </tbody>\n",
       "</table>\n",
       "</div>"
      ],
      "text/plain": [
       "    item_id  gb_flag\n",
       "0  10009572        0\n",
       "1  10041052        1\n",
       "2  10073489        0\n",
       "3  10051723        0\n",
       "4  10000796        0\n",
       "5  10033988        0"
      ]
     },
     "execution_count": 36,
     "metadata": {},
     "output_type": "execute_result"
    }
   ],
   "source": [
    "df2.head(6)"
   ]
  },
  {
   "cell_type": "code",
   "execution_count": 37,
   "id": "1216ca2e",
   "metadata": {},
   "outputs": [
    {
     "data": {
      "text/plain": [
       "pandas.core.frame.DataFrame"
      ]
     },
     "execution_count": 37,
     "metadata": {},
     "output_type": "execute_result"
    }
   ],
   "source": [
    "type(df2)"
   ]
  },
  {
   "cell_type": "code",
   "execution_count": 38,
   "id": "85772d04",
   "metadata": {},
   "outputs": [
    {
     "data": {
      "text/plain": [
       "(246, 2)"
      ]
     },
     "execution_count": 38,
     "metadata": {},
     "output_type": "execute_result"
    }
   ],
   "source": [
    "df2.shape"
   ]
  },
  {
   "cell_type": "markdown",
   "id": "37b4aa27",
   "metadata": {},
   "source": [
    "# Conditional Extraction"
   ]
  },
  {
   "cell_type": "code",
   "execution_count": 41,
   "id": "5446a4cd",
   "metadata": {},
   "outputs": [],
   "source": [
    "gb_items = df[df[\"gb_flag\"] == 0] # how to get the entire data set with some condition"
   ]
  },
  {
   "cell_type": "code",
   "execution_count": 42,
   "id": "294a1347",
   "metadata": {},
   "outputs": [
    {
     "data": {
      "text/html": [
       "<div>\n",
       "<style scoped>\n",
       "    .dataframe tbody tr th:only-of-type {\n",
       "        vertical-align: middle;\n",
       "    }\n",
       "\n",
       "    .dataframe tbody tr th {\n",
       "        vertical-align: top;\n",
       "    }\n",
       "\n",
       "    .dataframe thead th {\n",
       "        text-align: right;\n",
       "    }\n",
       "</style>\n",
       "<table border=\"1\" class=\"dataframe\">\n",
       "  <thead>\n",
       "    <tr style=\"text-align: right;\">\n",
       "      <th></th>\n",
       "      <th>final_cat</th>\n",
       "      <th>ptype</th>\n",
       "      <th>gb_flag</th>\n",
       "      <th>item_id</th>\n",
       "      <th>gmv</th>\n",
       "      <th>qty</th>\n",
       "    </tr>\n",
       "  </thead>\n",
       "  <tbody>\n",
       "    <tr>\n",
       "      <th>0</th>\n",
       "      <td>Staples</td>\n",
       "      <td>Olive Oil</td>\n",
       "      <td>0</td>\n",
       "      <td>10009572</td>\n",
       "      <td>1533963.0</td>\n",
       "      <td>1142</td>\n",
       "    </tr>\n",
       "    <tr>\n",
       "      <th>2</th>\n",
       "      <td>GM</td>\n",
       "      <td>Steam Iron</td>\n",
       "      <td>0</td>\n",
       "      <td>10073489</td>\n",
       "      <td>444252.0</td>\n",
       "      <td>752</td>\n",
       "    </tr>\n",
       "    <tr>\n",
       "      <th>3</th>\n",
       "      <td>GM</td>\n",
       "      <td>Jacket</td>\n",
       "      <td>0</td>\n",
       "      <td>10051723</td>\n",
       "      <td>2915.0</td>\n",
       "      <td>7</td>\n",
       "    </tr>\n",
       "    <tr>\n",
       "      <th>4</th>\n",
       "      <td>FMCG F</td>\n",
       "      <td>Biscuit</td>\n",
       "      <td>0</td>\n",
       "      <td>10000796</td>\n",
       "      <td>252907.0</td>\n",
       "      <td>8010</td>\n",
       "    </tr>\n",
       "    <tr>\n",
       "      <th>5</th>\n",
       "      <td>Staples</td>\n",
       "      <td>Sesame Oil</td>\n",
       "      <td>0</td>\n",
       "      <td>10033988</td>\n",
       "      <td>211360.0</td>\n",
       "      <td>637</td>\n",
       "    </tr>\n",
       "  </tbody>\n",
       "</table>\n",
       "</div>"
      ],
      "text/plain": [
       "  final_cat       ptype  gb_flag   item_id        gmv   qty\n",
       "0   Staples   Olive Oil        0  10009572  1533963.0  1142\n",
       "2        GM  Steam Iron        0  10073489   444252.0   752\n",
       "3        GM      Jacket        0  10051723     2915.0     7\n",
       "4    FMCG F     Biscuit        0  10000796   252907.0  8010\n",
       "5   Staples  Sesame Oil        0  10033988   211360.0   637"
      ]
     },
     "execution_count": 42,
     "metadata": {},
     "output_type": "execute_result"
    }
   ],
   "source": [
    "gb_items.head()"
   ]
  },
  {
   "cell_type": "code",
   "execution_count": 44,
   "id": "258e5bd3",
   "metadata": {},
   "outputs": [
    {
     "data": {
      "text/plain": [
       "0       True\n",
       "1      False\n",
       "2       True\n",
       "3       True\n",
       "4       True\n",
       "       ...  \n",
       "241     True\n",
       "242     True\n",
       "243     True\n",
       "244     True\n",
       "245     True\n",
       "Name: gb_flag, Length: 246, dtype: bool"
      ]
     },
     "execution_count": 44,
     "metadata": {},
     "output_type": "execute_result"
    }
   ],
   "source": [
    "df[\"gb_flag\"] == 0"
   ]
  },
  {
   "cell_type": "code",
   "execution_count": 57,
   "id": "39afe5b2",
   "metadata": {},
   "outputs": [],
   "source": [
    "fmcg_only1 = df[df[\"final_cat\"].isin([\"FMCG F\",\"FMCG NF\"])]"
   ]
  },
  {
   "cell_type": "code",
   "execution_count": 58,
   "id": "d64a5306",
   "metadata": {},
   "outputs": [
    {
     "data": {
      "text/html": [
       "<div>\n",
       "<style scoped>\n",
       "    .dataframe tbody tr th:only-of-type {\n",
       "        vertical-align: middle;\n",
       "    }\n",
       "\n",
       "    .dataframe tbody tr th {\n",
       "        vertical-align: top;\n",
       "    }\n",
       "\n",
       "    .dataframe thead th {\n",
       "        text-align: right;\n",
       "    }\n",
       "</style>\n",
       "<table border=\"1\" class=\"dataframe\">\n",
       "  <thead>\n",
       "    <tr style=\"text-align: right;\">\n",
       "      <th></th>\n",
       "      <th>final_cat</th>\n",
       "      <th>ptype</th>\n",
       "      <th>gb_flag</th>\n",
       "      <th>item_id</th>\n",
       "      <th>gmv</th>\n",
       "      <th>qty</th>\n",
       "    </tr>\n",
       "  </thead>\n",
       "  <tbody>\n",
       "    <tr>\n",
       "      <th>1</th>\n",
       "      <td>FMCG F</td>\n",
       "      <td>Tea</td>\n",
       "      <td>1</td>\n",
       "      <td>10041052</td>\n",
       "      <td>24392096.32</td>\n",
       "      <td>104123</td>\n",
       "    </tr>\n",
       "    <tr>\n",
       "      <th>4</th>\n",
       "      <td>FMCG F</td>\n",
       "      <td>Biscuit</td>\n",
       "      <td>0</td>\n",
       "      <td>10000796</td>\n",
       "      <td>252907.00</td>\n",
       "      <td>8010</td>\n",
       "    </tr>\n",
       "    <tr>\n",
       "      <th>6</th>\n",
       "      <td>FMCG NF</td>\n",
       "      <td>Mosquito Repellent</td>\n",
       "      <td>0</td>\n",
       "      <td>10057141</td>\n",
       "      <td>1687424.00</td>\n",
       "      <td>10841</td>\n",
       "    </tr>\n",
       "    <tr>\n",
       "      <th>7</th>\n",
       "      <td>FMCG NF</td>\n",
       "      <td>Intimate Wash</td>\n",
       "      <td>0</td>\n",
       "      <td>10064621</td>\n",
       "      <td>593896.00</td>\n",
       "      <td>2527</td>\n",
       "    </tr>\n",
       "    <tr>\n",
       "      <th>11</th>\n",
       "      <td>FMCG F</td>\n",
       "      <td>Soy Milk</td>\n",
       "      <td>0</td>\n",
       "      <td>10080224</td>\n",
       "      <td>15531.00</td>\n",
       "      <td>172</td>\n",
       "    </tr>\n",
       "    <tr>\n",
       "      <th>...</th>\n",
       "      <td>...</td>\n",
       "      <td>...</td>\n",
       "      <td>...</td>\n",
       "      <td>...</td>\n",
       "      <td>...</td>\n",
       "      <td>...</td>\n",
       "    </tr>\n",
       "    <tr>\n",
       "      <th>235</th>\n",
       "      <td>FMCG F</td>\n",
       "      <td>Nachos</td>\n",
       "      <td>0</td>\n",
       "      <td>10038947</td>\n",
       "      <td>342087.00</td>\n",
       "      <td>10738</td>\n",
       "    </tr>\n",
       "    <tr>\n",
       "      <th>238</th>\n",
       "      <td>FMCG NF</td>\n",
       "      <td>Wet Food</td>\n",
       "      <td>0</td>\n",
       "      <td>10067703</td>\n",
       "      <td>19047.00</td>\n",
       "      <td>870</td>\n",
       "    </tr>\n",
       "    <tr>\n",
       "      <th>242</th>\n",
       "      <td>FMCG F</td>\n",
       "      <td>Malt</td>\n",
       "      <td>0</td>\n",
       "      <td>10046886</td>\n",
       "      <td>19527.00</td>\n",
       "      <td>797</td>\n",
       "    </tr>\n",
       "    <tr>\n",
       "      <th>243</th>\n",
       "      <td>FMCG F</td>\n",
       "      <td>Green Tea</td>\n",
       "      <td>0</td>\n",
       "      <td>10015804</td>\n",
       "      <td>115292.00</td>\n",
       "      <td>293</td>\n",
       "    </tr>\n",
       "    <tr>\n",
       "      <th>245</th>\n",
       "      <td>FMCG NF</td>\n",
       "      <td>Oil Replacement</td>\n",
       "      <td>0</td>\n",
       "      <td>10031801</td>\n",
       "      <td>9834.00</td>\n",
       "      <td>53</td>\n",
       "    </tr>\n",
       "  </tbody>\n",
       "</table>\n",
       "<p>115 rows × 6 columns</p>\n",
       "</div>"
      ],
      "text/plain": [
       "    final_cat               ptype  gb_flag   item_id          gmv     qty\n",
       "1      FMCG F                 Tea        1  10041052  24392096.32  104123\n",
       "4      FMCG F             Biscuit        0  10000796    252907.00    8010\n",
       "6     FMCG NF  Mosquito Repellent        0  10057141   1687424.00   10841\n",
       "7     FMCG NF       Intimate Wash        0  10064621    593896.00    2527\n",
       "11     FMCG F            Soy Milk        0  10080224     15531.00     172\n",
       "..        ...                 ...      ...       ...          ...     ...\n",
       "235    FMCG F              Nachos        0  10038947    342087.00   10738\n",
       "238   FMCG NF            Wet Food        0  10067703     19047.00     870\n",
       "242    FMCG F                Malt        0  10046886     19527.00     797\n",
       "243    FMCG F           Green Tea        0  10015804    115292.00     293\n",
       "245   FMCG NF     Oil Replacement        0  10031801      9834.00      53\n",
       "\n",
       "[115 rows x 6 columns]"
      ]
     },
     "execution_count": 58,
     "metadata": {},
     "output_type": "execute_result"
    }
   ],
   "source": [
    "fmcg_only1"
   ]
  },
  {
   "cell_type": "code",
   "execution_count": 59,
   "id": "833d6e63",
   "metadata": {},
   "outputs": [],
   "source": [
    "fmcg_only2 = df[(df[\"final_cat\"] == \"FMCG F\") | (df[\"final_cat\"] == \"FMCG NF\")]"
   ]
  },
  {
   "cell_type": "code",
   "execution_count": 60,
   "id": "b34d1f9c",
   "metadata": {},
   "outputs": [
    {
     "data": {
      "text/html": [
       "<div>\n",
       "<style scoped>\n",
       "    .dataframe tbody tr th:only-of-type {\n",
       "        vertical-align: middle;\n",
       "    }\n",
       "\n",
       "    .dataframe tbody tr th {\n",
       "        vertical-align: top;\n",
       "    }\n",
       "\n",
       "    .dataframe thead th {\n",
       "        text-align: right;\n",
       "    }\n",
       "</style>\n",
       "<table border=\"1\" class=\"dataframe\">\n",
       "  <thead>\n",
       "    <tr style=\"text-align: right;\">\n",
       "      <th></th>\n",
       "      <th>final_cat</th>\n",
       "      <th>ptype</th>\n",
       "      <th>gb_flag</th>\n",
       "      <th>item_id</th>\n",
       "      <th>gmv</th>\n",
       "      <th>qty</th>\n",
       "    </tr>\n",
       "  </thead>\n",
       "  <tbody>\n",
       "    <tr>\n",
       "      <th>1</th>\n",
       "      <td>FMCG F</td>\n",
       "      <td>Tea</td>\n",
       "      <td>1</td>\n",
       "      <td>10041052</td>\n",
       "      <td>24392096.32</td>\n",
       "      <td>104123</td>\n",
       "    </tr>\n",
       "    <tr>\n",
       "      <th>4</th>\n",
       "      <td>FMCG F</td>\n",
       "      <td>Biscuit</td>\n",
       "      <td>0</td>\n",
       "      <td>10000796</td>\n",
       "      <td>252907.00</td>\n",
       "      <td>8010</td>\n",
       "    </tr>\n",
       "    <tr>\n",
       "      <th>6</th>\n",
       "      <td>FMCG NF</td>\n",
       "      <td>Mosquito Repellent</td>\n",
       "      <td>0</td>\n",
       "      <td>10057141</td>\n",
       "      <td>1687424.00</td>\n",
       "      <td>10841</td>\n",
       "    </tr>\n",
       "    <tr>\n",
       "      <th>7</th>\n",
       "      <td>FMCG NF</td>\n",
       "      <td>Intimate Wash</td>\n",
       "      <td>0</td>\n",
       "      <td>10064621</td>\n",
       "      <td>593896.00</td>\n",
       "      <td>2527</td>\n",
       "    </tr>\n",
       "    <tr>\n",
       "      <th>11</th>\n",
       "      <td>FMCG F</td>\n",
       "      <td>Soy Milk</td>\n",
       "      <td>0</td>\n",
       "      <td>10080224</td>\n",
       "      <td>15531.00</td>\n",
       "      <td>172</td>\n",
       "    </tr>\n",
       "    <tr>\n",
       "      <th>...</th>\n",
       "      <td>...</td>\n",
       "      <td>...</td>\n",
       "      <td>...</td>\n",
       "      <td>...</td>\n",
       "      <td>...</td>\n",
       "      <td>...</td>\n",
       "    </tr>\n",
       "    <tr>\n",
       "      <th>235</th>\n",
       "      <td>FMCG F</td>\n",
       "      <td>Nachos</td>\n",
       "      <td>0</td>\n",
       "      <td>10038947</td>\n",
       "      <td>342087.00</td>\n",
       "      <td>10738</td>\n",
       "    </tr>\n",
       "    <tr>\n",
       "      <th>238</th>\n",
       "      <td>FMCG NF</td>\n",
       "      <td>Wet Food</td>\n",
       "      <td>0</td>\n",
       "      <td>10067703</td>\n",
       "      <td>19047.00</td>\n",
       "      <td>870</td>\n",
       "    </tr>\n",
       "    <tr>\n",
       "      <th>242</th>\n",
       "      <td>FMCG F</td>\n",
       "      <td>Malt</td>\n",
       "      <td>0</td>\n",
       "      <td>10046886</td>\n",
       "      <td>19527.00</td>\n",
       "      <td>797</td>\n",
       "    </tr>\n",
       "    <tr>\n",
       "      <th>243</th>\n",
       "      <td>FMCG F</td>\n",
       "      <td>Green Tea</td>\n",
       "      <td>0</td>\n",
       "      <td>10015804</td>\n",
       "      <td>115292.00</td>\n",
       "      <td>293</td>\n",
       "    </tr>\n",
       "    <tr>\n",
       "      <th>245</th>\n",
       "      <td>FMCG NF</td>\n",
       "      <td>Oil Replacement</td>\n",
       "      <td>0</td>\n",
       "      <td>10031801</td>\n",
       "      <td>9834.00</td>\n",
       "      <td>53</td>\n",
       "    </tr>\n",
       "  </tbody>\n",
       "</table>\n",
       "<p>115 rows × 6 columns</p>\n",
       "</div>"
      ],
      "text/plain": [
       "    final_cat               ptype  gb_flag   item_id          gmv     qty\n",
       "1      FMCG F                 Tea        1  10041052  24392096.32  104123\n",
       "4      FMCG F             Biscuit        0  10000796    252907.00    8010\n",
       "6     FMCG NF  Mosquito Repellent        0  10057141   1687424.00   10841\n",
       "7     FMCG NF       Intimate Wash        0  10064621    593896.00    2527\n",
       "11     FMCG F            Soy Milk        0  10080224     15531.00     172\n",
       "..        ...                 ...      ...       ...          ...     ...\n",
       "235    FMCG F              Nachos        0  10038947    342087.00   10738\n",
       "238   FMCG NF            Wet Food        0  10067703     19047.00     870\n",
       "242    FMCG F                Malt        0  10046886     19527.00     797\n",
       "243    FMCG F           Green Tea        0  10015804    115292.00     293\n",
       "245   FMCG NF     Oil Replacement        0  10031801      9834.00      53\n",
       "\n",
       "[115 rows x 6 columns]"
      ]
     },
     "execution_count": 60,
     "metadata": {},
     "output_type": "execute_result"
    }
   ],
   "source": [
    "fmcg_only2"
   ]
  },
  {
   "cell_type": "code",
   "execution_count": 63,
   "id": "7f13fd5f",
   "metadata": {},
   "outputs": [],
   "source": [
    "gb_fmcg_f = df[(df[\"final_cat\"] == \"FMCG F\") & (df[\"gb_flag\"] == 0)] # brackets a necessary for every condition"
   ]
  },
  {
   "cell_type": "code",
   "execution_count": 64,
   "id": "76495604",
   "metadata": {},
   "outputs": [
    {
     "data": {
      "text/html": [
       "<div>\n",
       "<style scoped>\n",
       "    .dataframe tbody tr th:only-of-type {\n",
       "        vertical-align: middle;\n",
       "    }\n",
       "\n",
       "    .dataframe tbody tr th {\n",
       "        vertical-align: top;\n",
       "    }\n",
       "\n",
       "    .dataframe thead th {\n",
       "        text-align: right;\n",
       "    }\n",
       "</style>\n",
       "<table border=\"1\" class=\"dataframe\">\n",
       "  <thead>\n",
       "    <tr style=\"text-align: right;\">\n",
       "      <th></th>\n",
       "      <th>final_cat</th>\n",
       "      <th>ptype</th>\n",
       "      <th>gb_flag</th>\n",
       "      <th>item_id</th>\n",
       "      <th>gmv</th>\n",
       "      <th>qty</th>\n",
       "    </tr>\n",
       "  </thead>\n",
       "  <tbody>\n",
       "    <tr>\n",
       "      <th>4</th>\n",
       "      <td>FMCG F</td>\n",
       "      <td>Biscuit</td>\n",
       "      <td>0</td>\n",
       "      <td>10000796</td>\n",
       "      <td>2.529070e+05</td>\n",
       "      <td>8010</td>\n",
       "    </tr>\n",
       "    <tr>\n",
       "      <th>11</th>\n",
       "      <td>FMCG F</td>\n",
       "      <td>Soy Milk</td>\n",
       "      <td>0</td>\n",
       "      <td>10080224</td>\n",
       "      <td>1.553100e+04</td>\n",
       "      <td>172</td>\n",
       "    </tr>\n",
       "    <tr>\n",
       "      <th>13</th>\n",
       "      <td>FMCG F</td>\n",
       "      <td>Gift Pack</td>\n",
       "      <td>0</td>\n",
       "      <td>10031773</td>\n",
       "      <td>3.500000e+02</td>\n",
       "      <td>1</td>\n",
       "    </tr>\n",
       "    <tr>\n",
       "      <th>16</th>\n",
       "      <td>FMCG F</td>\n",
       "      <td>Namkeen</td>\n",
       "      <td>0</td>\n",
       "      <td>10004576</td>\n",
       "      <td>2.020063e+06</td>\n",
       "      <td>44826</td>\n",
       "    </tr>\n",
       "    <tr>\n",
       "      <th>19</th>\n",
       "      <td>FMCG F</td>\n",
       "      <td>Soft Drink</td>\n",
       "      <td>0</td>\n",
       "      <td>10007119</td>\n",
       "      <td>1.531400e+04</td>\n",
       "      <td>630</td>\n",
       "    </tr>\n",
       "    <tr>\n",
       "      <th>...</th>\n",
       "      <td>...</td>\n",
       "      <td>...</td>\n",
       "      <td>...</td>\n",
       "      <td>...</td>\n",
       "      <td>...</td>\n",
       "      <td>...</td>\n",
       "    </tr>\n",
       "    <tr>\n",
       "      <th>231</th>\n",
       "      <td>FMCG F</td>\n",
       "      <td>Almonds</td>\n",
       "      <td>0</td>\n",
       "      <td>10047054</td>\n",
       "      <td>1.775700e+04</td>\n",
       "      <td>596</td>\n",
       "    </tr>\n",
       "    <tr>\n",
       "      <th>232</th>\n",
       "      <td>FMCG F</td>\n",
       "      <td>Cheese Spread</td>\n",
       "      <td>0</td>\n",
       "      <td>10015785</td>\n",
       "      <td>7.182899e+05</td>\n",
       "      <td>10232</td>\n",
       "    </tr>\n",
       "    <tr>\n",
       "      <th>235</th>\n",
       "      <td>FMCG F</td>\n",
       "      <td>Nachos</td>\n",
       "      <td>0</td>\n",
       "      <td>10038947</td>\n",
       "      <td>3.420870e+05</td>\n",
       "      <td>10738</td>\n",
       "    </tr>\n",
       "    <tr>\n",
       "      <th>242</th>\n",
       "      <td>FMCG F</td>\n",
       "      <td>Malt</td>\n",
       "      <td>0</td>\n",
       "      <td>10046886</td>\n",
       "      <td>1.952700e+04</td>\n",
       "      <td>797</td>\n",
       "    </tr>\n",
       "    <tr>\n",
       "      <th>243</th>\n",
       "      <td>FMCG F</td>\n",
       "      <td>Green Tea</td>\n",
       "      <td>0</td>\n",
       "      <td>10015804</td>\n",
       "      <td>1.152920e+05</td>\n",
       "      <td>293</td>\n",
       "    </tr>\n",
       "  </tbody>\n",
       "</table>\n",
       "<p>61 rows × 6 columns</p>\n",
       "</div>"
      ],
      "text/plain": [
       "    final_cat          ptype  gb_flag   item_id           gmv    qty\n",
       "4      FMCG F        Biscuit        0  10000796  2.529070e+05   8010\n",
       "11     FMCG F       Soy Milk        0  10080224  1.553100e+04    172\n",
       "13     FMCG F      Gift Pack        0  10031773  3.500000e+02      1\n",
       "16     FMCG F        Namkeen        0  10004576  2.020063e+06  44826\n",
       "19     FMCG F     Soft Drink        0  10007119  1.531400e+04    630\n",
       "..        ...            ...      ...       ...           ...    ...\n",
       "231    FMCG F        Almonds        0  10047054  1.775700e+04    596\n",
       "232    FMCG F  Cheese Spread        0  10015785  7.182899e+05  10232\n",
       "235    FMCG F         Nachos        0  10038947  3.420870e+05  10738\n",
       "242    FMCG F           Malt        0  10046886  1.952700e+04    797\n",
       "243    FMCG F      Green Tea        0  10015804  1.152920e+05    293\n",
       "\n",
       "[61 rows x 6 columns]"
      ]
     },
     "execution_count": 64,
     "metadata": {},
     "output_type": "execute_result"
    }
   ],
   "source": [
    "gb_fmcg_f"
   ]
  },
  {
   "cell_type": "markdown",
   "id": "77cd317b",
   "metadata": {},
   "source": [
    "# Specific rows and columns"
   ]
  },
  {
   "cell_type": "code",
   "execution_count": 70,
   "id": "58852d18",
   "metadata": {},
   "outputs": [],
   "source": [
    "df3 = df.loc[df[\"gb_flag\"] == 0, \"ptype\"]"
   ]
  },
  {
   "cell_type": "code",
   "execution_count": 71,
   "id": "75768d92",
   "metadata": {},
   "outputs": [
    {
     "data": {
      "text/plain": [
       "0              Olive Oil\n",
       "2             Steam Iron\n",
       "3                 Jacket\n",
       "4                Biscuit\n",
       "5             Sesame Oil\n",
       "             ...        \n",
       "241    Cushion Cover Set\n",
       "242                 Malt\n",
       "243            Green Tea\n",
       "244         Regular Rice\n",
       "245      Oil Replacement\n",
       "Name: ptype, Length: 210, dtype: object"
      ]
     },
     "execution_count": 71,
     "metadata": {},
     "output_type": "execute_result"
    }
   ],
   "source": [
    "df3"
   ]
  },
  {
   "cell_type": "code",
   "execution_count": 72,
   "id": "521cb0e7",
   "metadata": {},
   "outputs": [
    {
     "data": {
      "text/plain": [
       "0     Olive Oil\n",
       "2    Steam Iron\n",
       "3        Jacket\n",
       "4       Biscuit\n",
       "5    Sesame Oil\n",
       "Name: ptype, dtype: object"
      ]
     },
     "execution_count": 72,
     "metadata": {},
     "output_type": "execute_result"
    }
   ],
   "source": [
    "df3.head()"
   ]
  },
  {
   "cell_type": "code",
   "execution_count": 73,
   "id": "075ad5eb",
   "metadata": {},
   "outputs": [],
   "source": [
    "df4 = df.loc[df[\"gb_flag\"] == 0, [\"final_cat\",\"ptype\"]]"
   ]
  },
  {
   "cell_type": "code",
   "execution_count": 74,
   "id": "b855215c",
   "metadata": {},
   "outputs": [
    {
     "data": {
      "text/html": [
       "<div>\n",
       "<style scoped>\n",
       "    .dataframe tbody tr th:only-of-type {\n",
       "        vertical-align: middle;\n",
       "    }\n",
       "\n",
       "    .dataframe tbody tr th {\n",
       "        vertical-align: top;\n",
       "    }\n",
       "\n",
       "    .dataframe thead th {\n",
       "        text-align: right;\n",
       "    }\n",
       "</style>\n",
       "<table border=\"1\" class=\"dataframe\">\n",
       "  <thead>\n",
       "    <tr style=\"text-align: right;\">\n",
       "      <th></th>\n",
       "      <th>final_cat</th>\n",
       "      <th>ptype</th>\n",
       "    </tr>\n",
       "  </thead>\n",
       "  <tbody>\n",
       "    <tr>\n",
       "      <th>0</th>\n",
       "      <td>Staples</td>\n",
       "      <td>Olive Oil</td>\n",
       "    </tr>\n",
       "    <tr>\n",
       "      <th>2</th>\n",
       "      <td>GM</td>\n",
       "      <td>Steam Iron</td>\n",
       "    </tr>\n",
       "    <tr>\n",
       "      <th>3</th>\n",
       "      <td>GM</td>\n",
       "      <td>Jacket</td>\n",
       "    </tr>\n",
       "    <tr>\n",
       "      <th>4</th>\n",
       "      <td>FMCG F</td>\n",
       "      <td>Biscuit</td>\n",
       "    </tr>\n",
       "    <tr>\n",
       "      <th>5</th>\n",
       "      <td>Staples</td>\n",
       "      <td>Sesame Oil</td>\n",
       "    </tr>\n",
       "    <tr>\n",
       "      <th>...</th>\n",
       "      <td>...</td>\n",
       "      <td>...</td>\n",
       "    </tr>\n",
       "    <tr>\n",
       "      <th>241</th>\n",
       "      <td>GM</td>\n",
       "      <td>Cushion Cover Set</td>\n",
       "    </tr>\n",
       "    <tr>\n",
       "      <th>242</th>\n",
       "      <td>FMCG F</td>\n",
       "      <td>Malt</td>\n",
       "    </tr>\n",
       "    <tr>\n",
       "      <th>243</th>\n",
       "      <td>FMCG F</td>\n",
       "      <td>Green Tea</td>\n",
       "    </tr>\n",
       "    <tr>\n",
       "      <th>244</th>\n",
       "      <td>Staples</td>\n",
       "      <td>Regular Rice</td>\n",
       "    </tr>\n",
       "    <tr>\n",
       "      <th>245</th>\n",
       "      <td>FMCG NF</td>\n",
       "      <td>Oil Replacement</td>\n",
       "    </tr>\n",
       "  </tbody>\n",
       "</table>\n",
       "<p>210 rows × 2 columns</p>\n",
       "</div>"
      ],
      "text/plain": [
       "    final_cat              ptype\n",
       "0     Staples          Olive Oil\n",
       "2          GM         Steam Iron\n",
       "3          GM             Jacket\n",
       "4      FMCG F            Biscuit\n",
       "5     Staples         Sesame Oil\n",
       "..        ...                ...\n",
       "241        GM  Cushion Cover Set\n",
       "242    FMCG F               Malt\n",
       "243    FMCG F          Green Tea\n",
       "244   Staples       Regular Rice\n",
       "245   FMCG NF    Oil Replacement\n",
       "\n",
       "[210 rows x 2 columns]"
      ]
     },
     "execution_count": 74,
     "metadata": {},
     "output_type": "execute_result"
    }
   ],
   "source": [
    "df4"
   ]
  },
  {
   "cell_type": "code",
   "execution_count": 97,
   "id": "f65a9c1c",
   "metadata": {},
   "outputs": [],
   "source": [
    "df5 = df.loc[9:25, [\"final_cat\",\"ptype\"]]"
   ]
  },
  {
   "cell_type": "code",
   "execution_count": 98,
   "id": "8656f8e4",
   "metadata": {},
   "outputs": [
    {
     "data": {
      "text/html": [
       "<div>\n",
       "<style scoped>\n",
       "    .dataframe tbody tr th:only-of-type {\n",
       "        vertical-align: middle;\n",
       "    }\n",
       "\n",
       "    .dataframe tbody tr th {\n",
       "        vertical-align: top;\n",
       "    }\n",
       "\n",
       "    .dataframe thead th {\n",
       "        text-align: right;\n",
       "    }\n",
       "</style>\n",
       "<table border=\"1\" class=\"dataframe\">\n",
       "  <thead>\n",
       "    <tr style=\"text-align: right;\">\n",
       "      <th></th>\n",
       "      <th>final_cat</th>\n",
       "      <th>ptype</th>\n",
       "    </tr>\n",
       "  </thead>\n",
       "  <tbody>\n",
       "    <tr>\n",
       "      <th>9</th>\n",
       "      <td>Staples</td>\n",
       "      <td>Cashews</td>\n",
       "    </tr>\n",
       "    <tr>\n",
       "      <th>10</th>\n",
       "      <td>GM</td>\n",
       "      <td>Men's Shoes</td>\n",
       "    </tr>\n",
       "    <tr>\n",
       "      <th>11</th>\n",
       "      <td>FMCG F</td>\n",
       "      <td>Soy Milk</td>\n",
       "    </tr>\n",
       "    <tr>\n",
       "      <th>12</th>\n",
       "      <td>GM</td>\n",
       "      <td>Kitchen Towel</td>\n",
       "    </tr>\n",
       "    <tr>\n",
       "      <th>13</th>\n",
       "      <td>FMCG F</td>\n",
       "      <td>Gift Pack</td>\n",
       "    </tr>\n",
       "    <tr>\n",
       "      <th>14</th>\n",
       "      <td>GM</td>\n",
       "      <td>Men's Shoes</td>\n",
       "    </tr>\n",
       "    <tr>\n",
       "      <th>15</th>\n",
       "      <td>GM</td>\n",
       "      <td>Bath Mat</td>\n",
       "    </tr>\n",
       "    <tr>\n",
       "      <th>16</th>\n",
       "      <td>FMCG F</td>\n",
       "      <td>Namkeen</td>\n",
       "    </tr>\n",
       "    <tr>\n",
       "      <th>17</th>\n",
       "      <td>Staples</td>\n",
       "      <td>Urad Dal (Chilka)</td>\n",
       "    </tr>\n",
       "    <tr>\n",
       "      <th>18</th>\n",
       "      <td>FMCG NF</td>\n",
       "      <td>Lip Balm</td>\n",
       "    </tr>\n",
       "    <tr>\n",
       "      <th>19</th>\n",
       "      <td>FMCG F</td>\n",
       "      <td>Soft Drink</td>\n",
       "    </tr>\n",
       "    <tr>\n",
       "      <th>20</th>\n",
       "      <td>FMCG NF</td>\n",
       "      <td>Soap</td>\n",
       "    </tr>\n",
       "    <tr>\n",
       "      <th>21</th>\n",
       "      <td>FMCG F</td>\n",
       "      <td>Tomato Puree</td>\n",
       "    </tr>\n",
       "    <tr>\n",
       "      <th>22</th>\n",
       "      <td>GM</td>\n",
       "      <td>Super Saver Fruit Basket</td>\n",
       "    </tr>\n",
       "    <tr>\n",
       "      <th>23</th>\n",
       "      <td>FMCG F</td>\n",
       "      <td>Biscuit</td>\n",
       "    </tr>\n",
       "    <tr>\n",
       "      <th>24</th>\n",
       "      <td>Staples</td>\n",
       "      <td>Basmati Rice</td>\n",
       "    </tr>\n",
       "    <tr>\n",
       "      <th>25</th>\n",
       "      <td>GM</td>\n",
       "      <td>Cookware Set</td>\n",
       "    </tr>\n",
       "  </tbody>\n",
       "</table>\n",
       "</div>"
      ],
      "text/plain": [
       "   final_cat                     ptype\n",
       "9    Staples                   Cashews\n",
       "10        GM               Men's Shoes\n",
       "11    FMCG F                  Soy Milk\n",
       "12        GM             Kitchen Towel\n",
       "13    FMCG F                 Gift Pack\n",
       "14        GM               Men's Shoes\n",
       "15        GM                  Bath Mat\n",
       "16    FMCG F                   Namkeen\n",
       "17   Staples         Urad Dal (Chilka)\n",
       "18   FMCG NF                  Lip Balm\n",
       "19    FMCG F                Soft Drink\n",
       "20   FMCG NF                      Soap\n",
       "21    FMCG F              Tomato Puree\n",
       "22        GM  Super Saver Fruit Basket\n",
       "23    FMCG F                   Biscuit\n",
       "24   Staples              Basmati Rice\n",
       "25        GM              Cookware Set"
      ]
     },
     "execution_count": 98,
     "metadata": {},
     "output_type": "execute_result"
    }
   ],
   "source": [
    "df5"
   ]
  },
  {
   "cell_type": "code",
   "execution_count": 94,
   "id": "005a5f0f",
   "metadata": {},
   "outputs": [],
   "source": [
    "df6 = df.iloc[0:3, 0]"
   ]
  },
  {
   "cell_type": "code",
   "execution_count": 95,
   "id": "99b942ef",
   "metadata": {},
   "outputs": [
    {
     "data": {
      "text/plain": [
       "0    Staples\n",
       "1     FMCG F\n",
       "2         GM\n",
       "Name: final_cat, dtype: object"
      ]
     },
     "execution_count": 95,
     "metadata": {},
     "output_type": "execute_result"
    }
   ],
   "source": [
    "df6"
   ]
  },
  {
   "cell_type": "code",
   "execution_count": 103,
   "id": "af2c716d",
   "metadata": {},
   "outputs": [
    {
     "data": {
      "text/plain": [
       "6"
      ]
     },
     "execution_count": 103,
     "metadata": {},
     "output_type": "execute_result"
    }
   ],
   "source": [
    "len(df.columns)"
   ]
  },
  {
   "cell_type": "code",
   "execution_count": 105,
   "id": "b7d98a37",
   "metadata": {},
   "outputs": [
    {
     "data": {
      "text/plain": [
       "246"
      ]
     },
     "execution_count": 105,
     "metadata": {},
     "output_type": "execute_result"
    }
   ],
   "source": [
    "len(df.index)"
   ]
  },
  {
   "cell_type": "code",
   "execution_count": null,
   "id": "33350e0b",
   "metadata": {},
   "outputs": [],
   "source": []
  }
 ],
 "metadata": {
  "kernelspec": {
   "display_name": "Python 3",
   "language": "python",
   "name": "python3"
  },
  "language_info": {
   "codemirror_mode": {
    "name": "ipython",
    "version": 3
   },
   "file_extension": ".py",
   "mimetype": "text/x-python",
   "name": "python",
   "nbconvert_exporter": "python",
   "pygments_lexer": "ipython3",
   "version": "3.9.2"
  }
 },
 "nbformat": 4,
 "nbformat_minor": 5
}
